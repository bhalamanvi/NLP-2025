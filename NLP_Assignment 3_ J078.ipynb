{
 "cells": [
  {
   "cell_type": "code",
   "execution_count": 1,
   "metadata": {
    "_cell_guid": "b1076dfc-b9ad-4769-8c92-a6c4dae69d19",
    "_uuid": "8f2839f25d086af736a60e9eeb907d3b93b6e0e5",
    "execution": {
     "iopub.execute_input": "2025-08-10T05:33:57.649282Z",
     "iopub.status.busy": "2025-08-10T05:33:57.648986Z",
     "iopub.status.idle": "2025-08-10T05:33:59.326504Z",
     "shell.execute_reply": "2025-08-10T05:33:59.325685Z",
     "shell.execute_reply.started": "2025-08-10T05:33:57.649250Z"
    },
    "trusted": true
   },
   "outputs": [
    {
     "name": "stdout",
     "output_type": "stream",
     "text": [
      "/kaggle/input/imdb-dataset-of-50k-movie-reviews/IMDB Dataset.csv\n"
     ]
    }
   ],
   "source": [
    "# This Python 3 environment comes with many helpful analytics libraries installed\n",
    "# It is defined by the kaggle/python Docker image: https://github.com/kaggle/docker-python\n",
    "# For example, here's several helpful packages to load\n",
    "\n",
    "import numpy as np # linear algebra\n",
    "import pandas as pd # data processing, CSV file I/O (e.g. pd.read_csv)\n",
    "\n",
    "# Input data files are available in the read-only \"../input/\" directory\n",
    "# For example, running this (by clicking run or pressing Shift+Enter) will list all files under the input directory\n",
    "\n",
    "import os\n",
    "for dirname, _, filenames in os.walk('/kaggle/input'):\n",
    "    for filename in filenames:\n",
    "        print(os.path.join(dirname, filename))\n",
    "\n",
    "# You can write up to 20GB to the current directory (/kaggle/working/) that gets preserved as output when you create a version using \"Save & Run All\" \n",
    "# You can also write temporary files to /kaggle/temp/, but they won't be saved outside of the current session"
   ]
  },
  {
   "cell_type": "code",
   "execution_count": null,
   "metadata": {
    "execution": {
     "iopub.execute_input": "2025-08-10T05:57:43.153423Z",
     "iopub.status.busy": "2025-08-10T05:57:43.153116Z"
    },
    "trusted": true
   },
   "outputs": [
    {
     "name": "stderr",
     "output_type": "stream",
     "text": [
      "2025-08-10 05:58:00.856117: E external/local_xla/xla/stream_executor/cuda/cuda_fft.cc:477] Unable to register cuFFT factory: Attempting to register factory for plugin cuFFT when one has already been registered\n",
      "WARNING: All log messages before absl::InitializeLog() is called are written to STDERR\n",
      "E0000 00:00:1754805481.116709      36 cuda_dnn.cc:8310] Unable to register cuDNN factory: Attempting to register factory for plugin cuDNN when one has already been registered\n",
      "E0000 00:00:1754805481.182852      36 cuda_blas.cc:1418] Unable to register cuBLAS factory: Attempting to register factory for plugin cuBLAS when one has already been registered\n"
     ]
    },
    {
     "name": "stdout",
     "output_type": "stream",
     "text": [
      "IMDB Sentiment Analysis Fine-tuning Pipeline\n",
      "============================================================\n",
      "=== DEPENDENCY CHECK ===\n",
      "✓ Transformers: 4.52.4\n",
      "✓ PyTorch: 2.6.0+cu124\n",
      "✓ Scikit-learn: 1.2.2\n",
      "✓ Datasets: 3.6.0\n",
      "✓ CUDA available: Tesla T4\n",
      "=========================\n",
      "\n",
      "Loading IMDB dataset...\n",
      "Full dataset size: 50000\n",
      "Subset size for model comparison: 2000\n",
      "\n",
      "============================================================\n",
      "STEP 1: COMPARING 5 MODELS ON SUBSET\n",
      "============================================================\n",
      "\n",
      "==================================================\n",
      "Testing DistilBERT (distilbert-base-uncased)\n",
      "==================================================\n"
     ]
    },
    {
     "data": {
      "application/vnd.jupyter.widget-view+json": {
       "model_id": "e1ed72ed65804d1aa35261182af2ac3a",
       "version_major": 2,
       "version_minor": 0
      },
      "text/plain": [
       "tokenizer_config.json:   0%|          | 0.00/48.0 [00:00<?, ?B/s]"
      ]
     },
     "metadata": {},
     "output_type": "display_data"
    },
    {
     "data": {
      "application/vnd.jupyter.widget-view+json": {
       "model_id": "3421922d43d24cde80048cadeeaa0f5c",
       "version_major": 2,
       "version_minor": 0
      },
      "text/plain": [
       "config.json:   0%|          | 0.00/483 [00:00<?, ?B/s]"
      ]
     },
     "metadata": {},
     "output_type": "display_data"
    },
    {
     "data": {
      "application/vnd.jupyter.widget-view+json": {
       "model_id": "885bd69a12414c78ac4c44f8bc265f7f",
       "version_major": 2,
       "version_minor": 0
      },
      "text/plain": [
       "vocab.txt:   0%|          | 0.00/232k [00:00<?, ?B/s]"
      ]
     },
     "metadata": {},
     "output_type": "display_data"
    },
    {
     "data": {
      "application/vnd.jupyter.widget-view+json": {
       "model_id": "15fb45b793e84e9b9b9123f744388b12",
       "version_major": 2,
       "version_minor": 0
      },
      "text/plain": [
       "tokenizer.json:   0%|          | 0.00/466k [00:00<?, ?B/s]"
      ]
     },
     "metadata": {},
     "output_type": "display_data"
    },
    {
     "data": {
      "application/vnd.jupyter.widget-view+json": {
       "model_id": "27d08209be8e4913a3281a6b655c0fa6",
       "version_major": 2,
       "version_minor": 0
      },
      "text/plain": [
       "Map:   0%|          | 0/1600 [00:00<?, ? examples/s]"
      ]
     },
     "metadata": {},
     "output_type": "display_data"
    },
    {
     "data": {
      "application/vnd.jupyter.widget-view+json": {
       "model_id": "21b6bdb6952f4093b8a3e0c6272621ac",
       "version_major": 2,
       "version_minor": 0
      },
      "text/plain": [
       "Map:   0%|          | 0/400 [00:00<?, ? examples/s]"
      ]
     },
     "metadata": {},
     "output_type": "display_data"
    },
    {
     "name": "stdout",
     "output_type": "stream",
     "text": [
      "\n",
      "Fine-tuning distilbert-base-uncased...\n"
     ]
    },
    {
     "data": {
      "application/vnd.jupyter.widget-view+json": {
       "model_id": "2405b2826ba44c4b931108d1d6ec2248",
       "version_major": 2,
       "version_minor": 0
      },
      "text/plain": [
       "model.safetensors:   0%|          | 0.00/268M [00:00<?, ?B/s]"
      ]
     },
     "metadata": {},
     "output_type": "display_data"
    },
    {
     "name": "stderr",
     "output_type": "stream",
     "text": [
      "Some weights of DistilBertForSequenceClassification were not initialized from the model checkpoint at distilbert-base-uncased and are newly initialized: ['classifier.bias', 'classifier.weight', 'pre_classifier.bias', 'pre_classifier.weight']\n",
      "You should probably TRAIN this model on a down-stream task to be able to use it for predictions and inference.\n"
     ]
    },
    {
     "name": "stdout",
     "output_type": "stream",
     "text": [
      "Using device: cuda\n",
      "Starting training for distilbert-base-uncased...\n"
     ]
    },
    {
     "data": {
      "text/html": [
       "\n",
       "    <div>\n",
       "      \n",
       "      <progress value='100' max='100' style='width:300px; height:20px; vertical-align: middle;'></progress>\n",
       "      [100/100 00:48, Epoch 1/1]\n",
       "    </div>\n",
       "    <table border=\"1\" class=\"dataframe\">\n",
       "  <thead>\n",
       " <tr style=\"text-align: left;\">\n",
       "      <th>Epoch</th>\n",
       "      <th>Training Loss</th>\n",
       "      <th>Validation Loss</th>\n",
       "      <th>F1</th>\n",
       "      <th>Accuracy</th>\n",
       "    </tr>\n",
       "  </thead>\n",
       "  <tbody>\n",
       "    <tr>\n",
       "      <td>1</td>\n",
       "      <td>0.466600</td>\n",
       "      <td>0.365854</td>\n",
       "      <td>0.845819</td>\n",
       "      <td>0.847500</td>\n",
       "    </tr>\n",
       "  </tbody>\n",
       "</table><p>"
      ],
      "text/plain": [
       "<IPython.core.display.HTML object>"
      ]
     },
     "metadata": {},
     "output_type": "display_data"
    },
    {
     "name": "stdout",
     "output_type": "stream",
     "text": [
      "Training completed for distilbert-base-uncased\n",
      "Evaluating distilbert-base-uncased...\n"
     ]
    },
    {
     "data": {
      "text/html": [
       "\n",
       "    <div>\n",
       "      \n",
       "      <progress value='13' max='13' style='width:300px; height:20px; vertical-align: middle;'></progress>\n",
       "      [13/13 00:03]\n",
       "    </div>\n",
       "    "
      ],
      "text/plain": [
       "<IPython.core.display.HTML object>"
      ]
     },
     "metadata": {},
     "output_type": "display_data"
    },
    {
     "name": "stdout",
     "output_type": "stream",
     "text": [
      "DistilBERT Results:\n",
      "F1 Score: 0.8458\n",
      "Accuracy: 0.8475\n",
      "Eval Loss: 0.3659\n",
      "\n",
      "==================================================\n",
      "Testing BERT (bert-base-uncased)\n",
      "==================================================\n"
     ]
    },
    {
     "data": {
      "application/vnd.jupyter.widget-view+json": {
       "model_id": "6ac3486b04524708bffd24ee1f692ed0",
       "version_major": 2,
       "version_minor": 0
      },
      "text/plain": [
       "tokenizer_config.json:   0%|          | 0.00/48.0 [00:00<?, ?B/s]"
      ]
     },
     "metadata": {},
     "output_type": "display_data"
    },
    {
     "data": {
      "application/vnd.jupyter.widget-view+json": {
       "model_id": "edd6391b1d724ea3ae78eef079ce9208",
       "version_major": 2,
       "version_minor": 0
      },
      "text/plain": [
       "config.json:   0%|          | 0.00/570 [00:00<?, ?B/s]"
      ]
     },
     "metadata": {},
     "output_type": "display_data"
    },
    {
     "data": {
      "application/vnd.jupyter.widget-view+json": {
       "model_id": "b8a8fa5a4f0947ed941c96b7d7a83b65",
       "version_major": 2,
       "version_minor": 0
      },
      "text/plain": [
       "vocab.txt:   0%|          | 0.00/232k [00:00<?, ?B/s]"
      ]
     },
     "metadata": {},
     "output_type": "display_data"
    },
    {
     "data": {
      "application/vnd.jupyter.widget-view+json": {
       "model_id": "37cc025d9773494c992c3565cf45c7a4",
       "version_major": 2,
       "version_minor": 0
      },
      "text/plain": [
       "tokenizer.json:   0%|          | 0.00/466k [00:00<?, ?B/s]"
      ]
     },
     "metadata": {},
     "output_type": "display_data"
    },
    {
     "data": {
      "application/vnd.jupyter.widget-view+json": {
       "model_id": "2a7ce8eb240c4225b37546fe1bf86a71",
       "version_major": 2,
       "version_minor": 0
      },
      "text/plain": [
       "Map:   0%|          | 0/1600 [00:00<?, ? examples/s]"
      ]
     },
     "metadata": {},
     "output_type": "display_data"
    },
    {
     "data": {
      "application/vnd.jupyter.widget-view+json": {
       "model_id": "1a26af16bae84842977463afb39f90f9",
       "version_major": 2,
       "version_minor": 0
      },
      "text/plain": [
       "Map:   0%|          | 0/400 [00:00<?, ? examples/s]"
      ]
     },
     "metadata": {},
     "output_type": "display_data"
    },
    {
     "name": "stdout",
     "output_type": "stream",
     "text": [
      "\n",
      "Fine-tuning bert-base-uncased...\n"
     ]
    },
    {
     "data": {
      "application/vnd.jupyter.widget-view+json": {
       "model_id": "eb5b1014300742f59234382087cbfe78",
       "version_major": 2,
       "version_minor": 0
      },
      "text/plain": [
       "model.safetensors:   0%|          | 0.00/440M [00:00<?, ?B/s]"
      ]
     },
     "metadata": {},
     "output_type": "display_data"
    },
    {
     "name": "stderr",
     "output_type": "stream",
     "text": [
      "Some weights of BertForSequenceClassification were not initialized from the model checkpoint at bert-base-uncased and are newly initialized: ['classifier.bias', 'classifier.weight']\n",
      "You should probably TRAIN this model on a down-stream task to be able to use it for predictions and inference.\n"
     ]
    },
    {
     "name": "stdout",
     "output_type": "stream",
     "text": [
      "Using device: cuda\n",
      "Starting training for bert-base-uncased...\n"
     ]
    },
    {
     "data": {
      "text/html": [
       "\n",
       "    <div>\n",
       "      \n",
       "      <progress value='100' max='100' style='width:300px; height:20px; vertical-align: middle;'></progress>\n",
       "      [100/100 01:44, Epoch 1/1]\n",
       "    </div>\n",
       "    <table border=\"1\" class=\"dataframe\">\n",
       "  <thead>\n",
       " <tr style=\"text-align: left;\">\n",
       "      <th>Epoch</th>\n",
       "      <th>Training Loss</th>\n",
       "      <th>Validation Loss</th>\n",
       "      <th>F1</th>\n",
       "      <th>Accuracy</th>\n",
       "    </tr>\n",
       "  </thead>\n",
       "  <tbody>\n",
       "    <tr>\n",
       "      <td>1</td>\n",
       "      <td>0.425900</td>\n",
       "      <td>0.285893</td>\n",
       "      <td>0.897516</td>\n",
       "      <td>0.897500</td>\n",
       "    </tr>\n",
       "  </tbody>\n",
       "</table><p>"
      ],
      "text/plain": [
       "<IPython.core.display.HTML object>"
      ]
     },
     "metadata": {},
     "output_type": "display_data"
    },
    {
     "name": "stdout",
     "output_type": "stream",
     "text": [
      "Training completed for bert-base-uncased\n",
      "Evaluating bert-base-uncased...\n"
     ]
    },
    {
     "data": {
      "text/html": [
       "\n",
       "    <div>\n",
       "      \n",
       "      <progress value='13' max='13' style='width:300px; height:20px; vertical-align: middle;'></progress>\n",
       "      [13/13 00:07]\n",
       "    </div>\n",
       "    "
      ],
      "text/plain": [
       "<IPython.core.display.HTML object>"
      ]
     },
     "metadata": {},
     "output_type": "display_data"
    },
    {
     "name": "stdout",
     "output_type": "stream",
     "text": [
      "BERT Results:\n",
      "F1 Score: 0.8975\n",
      "Accuracy: 0.8975\n",
      "Eval Loss: 0.2859\n",
      "\n",
      "==================================================\n",
      "Testing RoBERTa (roberta-base)\n",
      "==================================================\n"
     ]
    },
    {
     "data": {
      "application/vnd.jupyter.widget-view+json": {
       "model_id": "9d9992e3b6a6410999175d84b71c09cc",
       "version_major": 2,
       "version_minor": 0
      },
      "text/plain": [
       "tokenizer_config.json:   0%|          | 0.00/25.0 [00:00<?, ?B/s]"
      ]
     },
     "metadata": {},
     "output_type": "display_data"
    },
    {
     "data": {
      "application/vnd.jupyter.widget-view+json": {
       "model_id": "d61a621272dc44738790d6176ec7edda",
       "version_major": 2,
       "version_minor": 0
      },
      "text/plain": [
       "config.json:   0%|          | 0.00/481 [00:00<?, ?B/s]"
      ]
     },
     "metadata": {},
     "output_type": "display_data"
    },
    {
     "data": {
      "application/vnd.jupyter.widget-view+json": {
       "model_id": "9c59c3f4aa144062b2f064693237b0b8",
       "version_major": 2,
       "version_minor": 0
      },
      "text/plain": [
       "vocab.json:   0%|          | 0.00/899k [00:00<?, ?B/s]"
      ]
     },
     "metadata": {},
     "output_type": "display_data"
    },
    {
     "data": {
      "application/vnd.jupyter.widget-view+json": {
       "model_id": "273e8a6c4190485fb59f6a4647f28eb0",
       "version_major": 2,
       "version_minor": 0
      },
      "text/plain": [
       "merges.txt:   0%|          | 0.00/456k [00:00<?, ?B/s]"
      ]
     },
     "metadata": {},
     "output_type": "display_data"
    },
    {
     "data": {
      "application/vnd.jupyter.widget-view+json": {
       "model_id": "cd12eac09dae4211aa9e1558ff737057",
       "version_major": 2,
       "version_minor": 0
      },
      "text/plain": [
       "tokenizer.json:   0%|          | 0.00/1.36M [00:00<?, ?B/s]"
      ]
     },
     "metadata": {},
     "output_type": "display_data"
    },
    {
     "data": {
      "application/vnd.jupyter.widget-view+json": {
       "model_id": "f85dd9decc5944e79f5250b5aa0b3873",
       "version_major": 2,
       "version_minor": 0
      },
      "text/plain": [
       "Map:   0%|          | 0/1600 [00:00<?, ? examples/s]"
      ]
     },
     "metadata": {},
     "output_type": "display_data"
    },
    {
     "data": {
      "application/vnd.jupyter.widget-view+json": {
       "model_id": "faba4fe70ca642c9b40a129308090a75",
       "version_major": 2,
       "version_minor": 0
      },
      "text/plain": [
       "Map:   0%|          | 0/400 [00:00<?, ? examples/s]"
      ]
     },
     "metadata": {},
     "output_type": "display_data"
    },
    {
     "name": "stdout",
     "output_type": "stream",
     "text": [
      "\n",
      "Fine-tuning roberta-base...\n"
     ]
    },
    {
     "data": {
      "application/vnd.jupyter.widget-view+json": {
       "model_id": "40709e65073e4b23aa51eaf6f3f04ed4",
       "version_major": 2,
       "version_minor": 0
      },
      "text/plain": [
       "model.safetensors:   0%|          | 0.00/499M [00:00<?, ?B/s]"
      ]
     },
     "metadata": {},
     "output_type": "display_data"
    },
    {
     "name": "stderr",
     "output_type": "stream",
     "text": [
      "Some weights of RobertaForSequenceClassification were not initialized from the model checkpoint at roberta-base and are newly initialized: ['classifier.dense.bias', 'classifier.dense.weight', 'classifier.out_proj.bias', 'classifier.out_proj.weight']\n",
      "You should probably TRAIN this model on a down-stream task to be able to use it for predictions and inference.\n"
     ]
    },
    {
     "name": "stdout",
     "output_type": "stream",
     "text": [
      "Using device: cuda\n",
      "Starting training for roberta-base...\n"
     ]
    },
    {
     "data": {
      "text/html": [
       "\n",
       "    <div>\n",
       "      \n",
       "      <progress value='100' max='100' style='width:300px; height:20px; vertical-align: middle;'></progress>\n",
       "      [100/100 01:47, Epoch 1/1]\n",
       "    </div>\n",
       "    <table border=\"1\" class=\"dataframe\">\n",
       "  <thead>\n",
       " <tr style=\"text-align: left;\">\n",
       "      <th>Epoch</th>\n",
       "      <th>Training Loss</th>\n",
       "      <th>Validation Loss</th>\n",
       "      <th>F1</th>\n",
       "      <th>Accuracy</th>\n",
       "    </tr>\n",
       "  </thead>\n",
       "  <tbody>\n",
       "    <tr>\n",
       "      <td>1</td>\n",
       "      <td>0.332300</td>\n",
       "      <td>0.447722</td>\n",
       "      <td>0.873264</td>\n",
       "      <td>0.875000</td>\n",
       "    </tr>\n",
       "  </tbody>\n",
       "</table><p>"
      ],
      "text/plain": [
       "<IPython.core.display.HTML object>"
      ]
     },
     "metadata": {},
     "output_type": "display_data"
    },
    {
     "name": "stdout",
     "output_type": "stream",
     "text": [
      "Training completed for roberta-base\n",
      "Evaluating roberta-base...\n"
     ]
    },
    {
     "data": {
      "text/html": [
       "\n",
       "    <div>\n",
       "      \n",
       "      <progress value='13' max='13' style='width:300px; height:20px; vertical-align: middle;'></progress>\n",
       "      [13/13 00:06]\n",
       "    </div>\n",
       "    "
      ],
      "text/plain": [
       "<IPython.core.display.HTML object>"
      ]
     },
     "metadata": {},
     "output_type": "display_data"
    },
    {
     "name": "stdout",
     "output_type": "stream",
     "text": [
      "RoBERTa Results:\n",
      "F1 Score: 0.8733\n",
      "Accuracy: 0.8750\n",
      "Eval Loss: 0.4477\n",
      "\n",
      "==================================================\n",
      "Testing DeBERTa-v3-small (microsoft/deberta-v3-small)\n",
      "==================================================\n"
     ]
    },
    {
     "data": {
      "application/vnd.jupyter.widget-view+json": {
       "model_id": "418c8828c64f40a1ac0181fc00e674b2",
       "version_major": 2,
       "version_minor": 0
      },
      "text/plain": [
       "tokenizer_config.json:   0%|          | 0.00/52.0 [00:00<?, ?B/s]"
      ]
     },
     "metadata": {},
     "output_type": "display_data"
    },
    {
     "data": {
      "application/vnd.jupyter.widget-view+json": {
       "model_id": "356de9fc6ed94b03853a7fc284a39c72",
       "version_major": 2,
       "version_minor": 0
      },
      "text/plain": [
       "config.json:   0%|          | 0.00/578 [00:00<?, ?B/s]"
      ]
     },
     "metadata": {},
     "output_type": "display_data"
    },
    {
     "data": {
      "application/vnd.jupyter.widget-view+json": {
       "model_id": "ed0e65d207ec46399c3494131c88efc1",
       "version_major": 2,
       "version_minor": 0
      },
      "text/plain": [
       "spm.model:   0%|          | 0.00/2.46M [00:00<?, ?B/s]"
      ]
     },
     "metadata": {},
     "output_type": "display_data"
    },
    {
     "data": {
      "application/vnd.jupyter.widget-view+json": {
       "model_id": "ea50b1e8bdf64ec1977a5407278a668f",
       "version_major": 2,
       "version_minor": 0
      },
      "text/plain": [
       "Map:   0%|          | 0/1600 [00:00<?, ? examples/s]"
      ]
     },
     "metadata": {},
     "output_type": "display_data"
    },
    {
     "data": {
      "application/vnd.jupyter.widget-view+json": {
       "model_id": "00d780f7d2b54793a2c4685a7d203312",
       "version_major": 2,
       "version_minor": 0
      },
      "text/plain": [
       "Map:   0%|          | 0/400 [00:00<?, ? examples/s]"
      ]
     },
     "metadata": {},
     "output_type": "display_data"
    },
    {
     "name": "stdout",
     "output_type": "stream",
     "text": [
      "\n",
      "Fine-tuning microsoft/deberta-v3-small...\n"
     ]
    },
    {
     "data": {
      "application/vnd.jupyter.widget-view+json": {
       "model_id": "bfa678c6715741edaf30b3db8e2995ba",
       "version_major": 2,
       "version_minor": 0
      },
      "text/plain": [
       "pytorch_model.bin:   0%|          | 0.00/286M [00:00<?, ?B/s]"
      ]
     },
     "metadata": {},
     "output_type": "display_data"
    },
    {
     "data": {
      "application/vnd.jupyter.widget-view+json": {
       "model_id": "a4e2a00d6be940e091143322cf4dedab",
       "version_major": 2,
       "version_minor": 0
      },
      "text/plain": [
       "model.safetensors:   0%|          | 0.00/286M [00:00<?, ?B/s]"
      ]
     },
     "metadata": {},
     "output_type": "display_data"
    },
    {
     "name": "stderr",
     "output_type": "stream",
     "text": [
      "Some weights of DebertaV2ForSequenceClassification were not initialized from the model checkpoint at microsoft/deberta-v3-small and are newly initialized: ['classifier.bias', 'classifier.weight', 'pooler.dense.bias', 'pooler.dense.weight']\n",
      "You should probably TRAIN this model on a down-stream task to be able to use it for predictions and inference.\n"
     ]
    },
    {
     "name": "stdout",
     "output_type": "stream",
     "text": [
      "Using device: cuda\n",
      "Starting training for microsoft/deberta-v3-small...\n"
     ]
    },
    {
     "data": {
      "text/html": [
       "\n",
       "    <div>\n",
       "      \n",
       "      <progress value='100' max='100' style='width:300px; height:20px; vertical-align: middle;'></progress>\n",
       "      [100/100 01:25, Epoch 1/1]\n",
       "    </div>\n",
       "    <table border=\"1\" class=\"dataframe\">\n",
       "  <thead>\n",
       " <tr style=\"text-align: left;\">\n",
       "      <th>Epoch</th>\n",
       "      <th>Training Loss</th>\n",
       "      <th>Validation Loss</th>\n",
       "      <th>F1</th>\n",
       "      <th>Accuracy</th>\n",
       "    </tr>\n",
       "  </thead>\n",
       "  <tbody>\n",
       "    <tr>\n",
       "      <td>1</td>\n",
       "      <td>0.376600</td>\n",
       "      <td>0.366714</td>\n",
       "      <td>0.902034</td>\n",
       "      <td>0.902500</td>\n",
       "    </tr>\n",
       "  </tbody>\n",
       "</table><p>"
      ],
      "text/plain": [
       "<IPython.core.display.HTML object>"
      ]
     },
     "metadata": {},
     "output_type": "display_data"
    },
    {
     "name": "stdout",
     "output_type": "stream",
     "text": [
      "Training completed for microsoft/deberta-v3-small\n",
      "Evaluating microsoft/deberta-v3-small...\n"
     ]
    },
    {
     "data": {
      "text/html": [
       "\n",
       "    <div>\n",
       "      \n",
       "      <progress value='13' max='13' style='width:300px; height:20px; vertical-align: middle;'></progress>\n",
       "      [13/13 00:05]\n",
       "    </div>\n",
       "    "
      ],
      "text/plain": [
       "<IPython.core.display.HTML object>"
      ]
     },
     "metadata": {},
     "output_type": "display_data"
    },
    {
     "name": "stdout",
     "output_type": "stream",
     "text": [
      "DeBERTa-v3-small Results:\n",
      "F1 Score: 0.9020\n",
      "Accuracy: 0.9025\n",
      "Eval Loss: 0.3667\n",
      "\n",
      "==================================================\n",
      "Testing ELECTRA-small (google/electra-small-discriminator)\n",
      "==================================================\n"
     ]
    },
    {
     "data": {
      "application/vnd.jupyter.widget-view+json": {
       "model_id": "26f501db7b6d47fdad6529c6c094c8bf",
       "version_major": 2,
       "version_minor": 0
      },
      "text/plain": [
       "tokenizer_config.json:   0%|          | 0.00/48.0 [00:00<?, ?B/s]"
      ]
     },
     "metadata": {},
     "output_type": "display_data"
    },
    {
     "data": {
      "application/vnd.jupyter.widget-view+json": {
       "model_id": "aa1fb58af0f1401cadee32ff9085d9ca",
       "version_major": 2,
       "version_minor": 0
      },
      "text/plain": [
       "config.json:   0%|          | 0.00/665 [00:00<?, ?B/s]"
      ]
     },
     "metadata": {},
     "output_type": "display_data"
    },
    {
     "data": {
      "application/vnd.jupyter.widget-view+json": {
       "model_id": "76cb294119744f1ba9c92cd589965c35",
       "version_major": 2,
       "version_minor": 0
      },
      "text/plain": [
       "vocab.txt: 0.00B [00:00, ?B/s]"
      ]
     },
     "metadata": {},
     "output_type": "display_data"
    },
    {
     "data": {
      "application/vnd.jupyter.widget-view+json": {
       "model_id": "f99f6d4142524aa4ab388281e8351fa1",
       "version_major": 2,
       "version_minor": 0
      },
      "text/plain": [
       "tokenizer.json: 0.00B [00:00, ?B/s]"
      ]
     },
     "metadata": {},
     "output_type": "display_data"
    },
    {
     "data": {
      "application/vnd.jupyter.widget-view+json": {
       "model_id": "56ab81c130384301bc96c8b6bf663872",
       "version_major": 2,
       "version_minor": 0
      },
      "text/plain": [
       "Map:   0%|          | 0/1600 [00:00<?, ? examples/s]"
      ]
     },
     "metadata": {},
     "output_type": "display_data"
    },
    {
     "data": {
      "application/vnd.jupyter.widget-view+json": {
       "model_id": "2baca658e48646378f8964e572c665f0",
       "version_major": 2,
       "version_minor": 0
      },
      "text/plain": [
       "Map:   0%|          | 0/400 [00:00<?, ? examples/s]"
      ]
     },
     "metadata": {},
     "output_type": "display_data"
    },
    {
     "name": "stdout",
     "output_type": "stream",
     "text": [
      "\n",
      "Fine-tuning google/electra-small-discriminator...\n"
     ]
    },
    {
     "data": {
      "application/vnd.jupyter.widget-view+json": {
       "model_id": "173f9bb5772143bfbd21e8d0d0d235c6",
       "version_major": 2,
       "version_minor": 0
      },
      "text/plain": [
       "pytorch_model.bin:   0%|          | 0.00/54.2M [00:00<?, ?B/s]"
      ]
     },
     "metadata": {},
     "output_type": "display_data"
    },
    {
     "name": "stderr",
     "output_type": "stream",
     "text": [
      "Some weights of ElectraForSequenceClassification were not initialized from the model checkpoint at google/electra-small-discriminator and are newly initialized: ['classifier.dense.bias', 'classifier.dense.weight', 'classifier.out_proj.bias', 'classifier.out_proj.weight']\n",
      "You should probably TRAIN this model on a down-stream task to be able to use it for predictions and inference.\n"
     ]
    },
    {
     "name": "stdout",
     "output_type": "stream",
     "text": [
      "Using device: cuda\n",
      "Starting training for google/electra-small-discriminator...\n"
     ]
    },
    {
     "data": {
      "application/vnd.jupyter.widget-view+json": {
       "model_id": "2dc4de441ff64945b8fbe42b371a6daf",
       "version_major": 2,
       "version_minor": 0
      },
      "text/plain": [
       "model.safetensors:   0%|          | 0.00/54.2M [00:00<?, ?B/s]"
      ]
     },
     "metadata": {},
     "output_type": "display_data"
    },
    {
     "data": {
      "text/html": [
       "\n",
       "    <div>\n",
       "      \n",
       "      <progress value='100' max='100' style='width:300px; height:20px; vertical-align: middle;'></progress>\n",
       "      [100/100 00:22, Epoch 1/1]\n",
       "    </div>\n",
       "    <table border=\"1\" class=\"dataframe\">\n",
       "  <thead>\n",
       " <tr style=\"text-align: left;\">\n",
       "      <th>Epoch</th>\n",
       "      <th>Training Loss</th>\n",
       "      <th>Validation Loss</th>\n",
       "      <th>F1</th>\n",
       "      <th>Accuracy</th>\n",
       "    </tr>\n",
       "  </thead>\n",
       "  <tbody>\n",
       "    <tr>\n",
       "      <td>1</td>\n",
       "      <td>0.657700</td>\n",
       "      <td>0.546017</td>\n",
       "      <td>0.809400</td>\n",
       "      <td>0.810000</td>\n",
       "    </tr>\n",
       "  </tbody>\n",
       "</table><p>"
      ],
      "text/plain": [
       "<IPython.core.display.HTML object>"
      ]
     },
     "metadata": {},
     "output_type": "display_data"
    },
    {
     "name": "stdout",
     "output_type": "stream",
     "text": [
      "Training completed for google/electra-small-discriminator\n",
      "Evaluating google/electra-small-discriminator...\n"
     ]
    },
    {
     "data": {
      "text/html": [
       "\n",
       "    <div>\n",
       "      \n",
       "      <progress value='13' max='13' style='width:300px; height:20px; vertical-align: middle;'></progress>\n",
       "      [13/13 00:01]\n",
       "    </div>\n",
       "    "
      ],
      "text/plain": [
       "<IPython.core.display.HTML object>"
      ]
     },
     "metadata": {},
     "output_type": "display_data"
    },
    {
     "name": "stdout",
     "output_type": "stream",
     "text": [
      "ELECTRA-small Results:\n",
      "F1 Score: 0.8094\n",
      "Accuracy: 0.8100\n",
      "Eval Loss: 0.5460\n"
     ]
    },
    {
     "data": {
      "image/png": "[encoded data removed]",
      "text/plain": [
       "<Figure size 1500x600 with 2 Axes>"
      ]
     },
     "metadata": {},
     "output_type": "display_data"
    },
    {
     "name": "stdout",
     "output_type": "stream",
     "text": [
      "\n",
      "============================================================\n",
      "BEST MODEL: DeBERTa-v3-small\n",
      "============================================================\n",
      "Model Name: microsoft/deberta-v3-small\n",
      "F1 Score: 0.9020\n",
      "Accuracy: 0.9025\n",
      "Eval Loss: 0.3667\n",
      "\n",
      "============================================================\n",
      "STEP 2: FINE-TUNING BEST MODEL ON FULL DATASET\n",
      "============================================================\n",
      "\n",
      "============================================================\n",
      "FINE-TUNING BEST MODEL ON FULL DATASET\n",
      "============================================================\n"
     ]
    },
    {
     "data": {
      "application/vnd.jupyter.widget-view+json": {
       "model_id": "0a57a852dc824772ae2ebcd397997731",
       "version_major": 2,
       "version_minor": 0
      },
      "text/plain": [
       "Map:   0%|          | 0/45000 [00:00<?, ? examples/s]"
      ]
     },
     "metadata": {},
     "output_type": "display_data"
    },
    {
     "data": {
      "application/vnd.jupyter.widget-view+json": {
       "model_id": "6b6b60b8bff14285b60d00941abd09f8",
       "version_major": 2,
       "version_minor": 0
      },
      "text/plain": [
       "Map:   0%|          | 0/5000 [00:00<?, ? examples/s]"
      ]
     },
     "metadata": {},
     "output_type": "display_data"
    },
    {
     "name": "stdout",
     "output_type": "stream",
     "text": [
      "\n",
      "Fine-tuning microsoft/deberta-v3-small...\n"
     ]
    },
    {
     "name": "stderr",
     "output_type": "stream",
     "text": [
      "Some weights of DebertaV2ForSequenceClassification were not initialized from the model checkpoint at microsoft/deberta-v3-small and are newly initialized: ['classifier.bias', 'classifier.weight', 'pooler.dense.bias', 'pooler.dense.weight']\n",
      "You should probably TRAIN this model on a down-stream task to be able to use it for predictions and inference.\n"
     ]
    },
    {
     "name": "stdout",
     "output_type": "stream",
     "text": [
      "Using device: cuda\n",
      "Starting training for microsoft/deberta-v3-small...\n"
     ]
    },
    {
     "data": {
      "text/html": [
       "\n",
       "    <div>\n",
       "      \n",
       "      <progress value='218' max='8439' style='width:300px; height:20px; vertical-align: middle;'></progress>\n",
       "      [ 218/8439 02:42 < 1:43:04, 1.33 it/s, Epoch 0.08/3]\n",
       "    </div>\n",
       "    <table border=\"1\" class=\"dataframe\">\n",
       "  <thead>\n",
       " <tr style=\"text-align: left;\">\n",
       "      <th>Epoch</th>\n",
       "      <th>Training Loss</th>\n",
       "      <th>Validation Loss</th>\n",
       "    </tr>\n",
       "  </thead>\n",
       "  <tbody>\n",
       "  </tbody>\n",
       "</table><p>"
      ],
      "text/plain": [
       "<IPython.core.display.HTML object>"
      ]
     },
     "metadata": {},
     "output_type": "display_data"
    }
   ],
   "source": [
    "import pandas as pd\n",
    "import numpy as np\n",
    "import torch\n",
    "from torch.utils.data import Dataset, DataLoader\n",
    "from transformers import (\n",
    "    AutoTokenizer, AutoModelForSequenceClassification,\n",
    "    TrainingArguments, Trainer, EarlyStoppingCallback\n",
    ")\n",
    "from sklearn.metrics import f1_score, accuracy_score, classification_report\n",
    "from sklearn.model_selection import train_test_split\n",
    "import matplotlib.pyplot as plt\n",
    "import seaborn as sns\n",
    "from datasets import Dataset as HFDataset\n",
    "import warnings\n",
    "import os\n",
    "warnings.filterwarnings('ignore')\n",
    "\n",
    "# Fix tokenizer parallelism warning\n",
    "os.environ[\"TOKENIZERS_PARALLELISM\"] = \"false\"\n",
    "\n",
    "def check_dependencies():\n",
    "    \"\"\"Check and report on dependency versions - now more flexible\"\"\"\n",
    "    try:\n",
    "        import transformers\n",
    "        import torch\n",
    "        import sklearn\n",
    "        \n",
    "        print(\"=== DEPENDENCY CHECK ===\")\n",
    "        print(f\"✓ Transformers: {transformers.__version__}\")\n",
    "        print(f\"✓ PyTorch: {torch.__version__}\")\n",
    "        print(f\"✓ Scikit-learn: {sklearn.__version__}\")\n",
    "        \n",
    "        # Try to import datasets, but don't fail if version issues\n",
    "        try:\n",
    "            import datasets\n",
    "            print(f\"✓ Datasets: {datasets.__version__}\")\n",
    "        except ImportError:\n",
    "            print(\"⚠️  Datasets import issue - will try alternative approach\")\n",
    "        \n",
    "        # Check for CUDA availability\n",
    "        if torch.cuda.is_available():\n",
    "            print(f\"✓ CUDA available: {torch.cuda.get_device_name()}\")\n",
    "        else:\n",
    "            print(\"ℹ️  Using CPU (CUDA not available)\")\n",
    "            \n",
    "        print(\"=========================\\n\")\n",
    "        \n",
    "    except ImportError as e:\n",
    "        print(f\"❌ Critical dependency missing: {e}\")\n",
    "        print(\"Please install: pip install transformers torch scikit-learn\")\n",
    "        return False\n",
    "    \n",
    "    return True\n",
    "\n",
    "# Set random seeds for reproducibility\n",
    "torch.manual_seed(42)\n",
    "np.random.seed(42)\n",
    "\n",
    "# Create models directory\n",
    "os.makedirs('./models', exist_ok=True)\n",
    "\n",
    "class IMDBDataset:\n",
    "    \"\"\"Custom dataset class for IMDB reviews\"\"\"\n",
    "    def __init__(self, texts, labels, tokenizer, max_length=512):\n",
    "        self.texts = texts\n",
    "        self.labels = labels\n",
    "        self.tokenizer = tokenizer\n",
    "        self.max_length = max_length\n",
    "    \n",
    "    def __len__(self):\n",
    "        return len(self.texts)\n",
    "    \n",
    "    def __getitem__(self, idx):\n",
    "        text = str(self.texts[idx])\n",
    "        label = self.labels[idx]\n",
    "        \n",
    "        encoding = self.tokenizer(\n",
    "            text,\n",
    "            truncation=True,\n",
    "            padding='max_length',\n",
    "            max_length=self.max_length,\n",
    "            return_tensors='pt'\n",
    "        )\n",
    "        \n",
    "        return {\n",
    "            'input_ids': encoding['input_ids'].flatten(),\n",
    "            'attention_mask': encoding['attention_mask'].flatten(),\n",
    "            'labels': torch.tensor(label, dtype=torch.long)\n",
    "        }\n",
    "\n",
    "def load_and_prepare_data(file_path, subset_size=5000, test_size=0.2):\n",
    "    \"\"\"Load and prepare the IMDB dataset\"\"\"\n",
    "    print(\"Loading IMDB dataset...\")\n",
    "    df = pd.read_csv('/kaggle/input/imdb-dataset-of-50k-movie-reviews/IMDB Dataset.csv')\n",
    "    \n",
    "    # Convert sentiment to numerical labels\n",
    "    df['label'] = df['sentiment'].map({'positive': 1, 'negative': 0})\n",
    "    \n",
    "    # Create subset for initial model comparison\n",
    "    subset_df = df.sample(n=subset_size, random_state=42)\n",
    "    \n",
    "    # Split the subset\n",
    "    train_texts, test_texts, train_labels, test_labels = train_test_split(\n",
    "        subset_df['review'].tolist(),\n",
    "        subset_df['label'].tolist(),\n",
    "        test_size=test_size,\n",
    "        random_state=42,\n",
    "        stratify=subset_df['label']\n",
    "    )\n",
    "    \n",
    "    return {\n",
    "        'full_df': df,\n",
    "        'subset': {\n",
    "            'train_texts': train_texts,\n",
    "            'test_texts': test_texts,\n",
    "            'train_labels': train_labels,\n",
    "            'test_labels': test_labels\n",
    "        }\n",
    "    }\n",
    "\n",
    "def custom_f1_score(eval_pred):\n",
    "    \"\"\"Custom F1 score function for evaluation\"\"\"\n",
    "    predictions, labels = eval_pred\n",
    "    predictions = np.argmax(predictions, axis=1)\n",
    "    f1 = f1_score(labels, predictions, average='weighted')\n",
    "    accuracy = accuracy_score(labels, predictions)\n",
    "    return {\n",
    "        'f1': f1,\n",
    "        'accuracy': accuracy\n",
    "    }\n",
    "\n",
    "def create_hf_dataset(texts, labels, tokenizer, max_length=512):\n",
    "    \"\"\"Create dataset for training - with fallback approach\"\"\"\n",
    "    try:\n",
    "        # Try HuggingFace datasets first\n",
    "        from datasets import Dataset as HFDataset\n",
    "        \n",
    "        def tokenize_function(examples):\n",
    "            return tokenizer(\n",
    "                examples['text'],\n",
    "                truncation=True,\n",
    "                padding='max_length',\n",
    "                max_length=max_length\n",
    "            )\n",
    "        \n",
    "        dataset = HFDataset.from_dict({\n",
    "            'text': texts,\n",
    "            'labels': labels\n",
    "        })\n",
    "        \n",
    "        tokenized_dataset = dataset.map(tokenize_function, batched=True)\n",
    "        return tokenized_dataset\n",
    "        \n",
    "    except Exception as e:\n",
    "        print(f\"HF datasets failed: {e}, using fallback...\")\n",
    "    \n",
    "    # Fallback: Create a simple dataset class\n",
    "    print(\"Using fallback dataset approach...\")\n",
    "    \n",
    "    class SimpleDataset:\n",
    "        def __init__(self, texts, labels, tokenizer, max_length=512):\n",
    "            self.texts = texts\n",
    "            self.labels = labels\n",
    "            self.tokenizer = tokenizer\n",
    "            self.max_length = max_length\n",
    "            \n",
    "        def __len__(self):\n",
    "            return len(self.texts)\n",
    "            \n",
    "        def __getitem__(self, idx):\n",
    "            text = str(self.texts[idx])\n",
    "            label = self.labels[idx]\n",
    "            \n",
    "            encoding = self.tokenizer(\n",
    "                text,\n",
    "                truncation=True,\n",
    "                padding='max_length',\n",
    "                max_length=self.max_length,\n",
    "                return_tensors='pt'\n",
    "            )\n",
    "            \n",
    "            return {\n",
    "                'input_ids': encoding['input_ids'].flatten(),\n",
    "                'attention_mask': encoding['attention_mask'].flatten(),\n",
    "                'labels': torch.tensor(label, dtype=torch.long)\n",
    "            }\n",
    "    \n",
    "    return SimpleDataset(texts, labels, tokenizer, max_length)\n",
    "\n",
    "def fine_tune_model(model_name, train_dataset, eval_dataset, output_dir, epochs=3):\n",
    "    \"\"\"Fine-tune a single model\"\"\"\n",
    "    print(f\"\\nFine-tuning {model_name}...\")\n",
    "    \n",
    "    try:\n",
    "        # Load tokenizer and model\n",
    "        tokenizer = AutoTokenizer.from_pretrained(model_name)\n",
    "        if tokenizer.pad_token is None:\n",
    "            tokenizer.pad_token = tokenizer.eos_token\n",
    "        \n",
    "        model = AutoModelForSequenceClassification.from_pretrained(\n",
    "            model_name,\n",
    "            num_labels=2,\n",
    "            ignore_mismatched_sizes=True\n",
    "        )\n",
    "        \n",
    "        # Check if CUDA is available\n",
    "        device = torch.device('cuda' if torch.cuda.is_available() else 'cpu')\n",
    "        print(f\"Using device: {device}\")\n",
    "        \n",
    "        # Training arguments\n",
    "        training_args = TrainingArguments(\n",
    "            output_dir=output_dir,\n",
    "            num_train_epochs=epochs,\n",
    "            per_device_train_batch_size=8,  # Reduced for stability\n",
    "            per_device_eval_batch_size=16,  # Reduced for stability\n",
    "            warmup_steps=100,\n",
    "            weight_decay=0.01,\n",
    "            logging_dir=f'{output_dir}/logs',\n",
    "            logging_steps=50,\n",
    "            eval_strategy=\"epoch\",  # Fixed: was evaluation_strategy\n",
    "            save_strategy=\"epoch\",\n",
    "            load_best_model_at_end=True,\n",
    "            metric_for_best_model=\"f1\",\n",
    "            greater_is_better=True,\n",
    "            report_to=[],  # Fixed: use empty list instead of None\n",
    "            save_total_limit=2,\n",
    "            dataloader_pin_memory=False,  # Added for stability\n",
    "            remove_unused_columns=True,   # Added for efficiency\n",
    "            fp16=torch.cuda.is_available(),  # Use mixed precision if CUDA available\n",
    "            push_to_hub=False  # Explicitly disable hub pushing\n",
    "        )\n",
    "        \n",
    "        # Create trainer\n",
    "        trainer = Trainer(\n",
    "            model=model,\n",
    "            args=training_args,\n",
    "            train_dataset=train_dataset,\n",
    "            eval_dataset=eval_dataset,\n",
    "            compute_metrics=custom_f1_score,\n",
    "            callbacks=[EarlyStoppingCallback(early_stopping_patience=2)]\n",
    "        )\n",
    "        \n",
    "        print(f\"Starting training for {model_name}...\")\n",
    "        # Train the model\n",
    "        trainer.train()\n",
    "        print(f\"Training completed for {model_name}\")\n",
    "        \n",
    "        # Evaluate the model\n",
    "        print(f\"Evaluating {model_name}...\")\n",
    "        eval_results = trainer.evaluate()\n",
    "        \n",
    "        return {\n",
    "            'model': model,\n",
    "            'tokenizer': tokenizer,\n",
    "            'trainer': trainer,\n",
    "            'eval_results': eval_results\n",
    "        }\n",
    "        \n",
    "    except Exception as e:\n",
    "        print(f\"Error in fine_tune_model for {model_name}: {str(e)}\")\n",
    "        import traceback\n",
    "        traceback.print_exc()\n",
    "        return None\n",
    "\n",
    "def compare_models_on_subset(data_dict):\n",
    "    \"\"\"Compare 5 different models on the subset\"\"\"\n",
    "    # Model configurations - starting with lighter models first\n",
    "    models_to_test = {\n",
    "        'distilbert-base-uncased': 'DistilBERT',\n",
    "        'bert-base-uncased': 'BERT',\n",
    "        'roberta-base': 'RoBERTa',\n",
    "        'microsoft/deberta-v3-small': 'DeBERTa-v3-small',  # Using small version for faster testing\n",
    "        'google/electra-small-discriminator': 'ELECTRA-small'  # Using small version\n",
    "    }\n",
    "    \n",
    "    results = {}\n",
    "    \n",
    "    for model_name, display_name in models_to_test.items():\n",
    "        try:\n",
    "            print(f\"\\n{'='*50}\")\n",
    "            print(f\"Testing {display_name} ({model_name})\")\n",
    "            print(f\"{'='*50}\")\n",
    "            \n",
    "            # Load tokenizer\n",
    "            tokenizer = AutoTokenizer.from_pretrained(model_name)\n",
    "            if tokenizer.pad_token is None:\n",
    "                tokenizer.pad_token = tokenizer.eos_token\n",
    "            \n",
    "            # Create datasets\n",
    "            train_dataset = create_hf_dataset(\n",
    "                data_dict['subset']['train_texts'],\n",
    "                data_dict['subset']['train_labels'],\n",
    "                tokenizer\n",
    "            )\n",
    "            \n",
    "            eval_dataset = create_hf_dataset(\n",
    "                data_dict['subset']['test_texts'],\n",
    "                data_dict['subset']['test_labels'],\n",
    "                tokenizer\n",
    "            )\n",
    "            \n",
    "            # Fine-tune model\n",
    "            result = fine_tune_model(\n",
    "                model_name,\n",
    "                train_dataset,\n",
    "                eval_dataset,\n",
    "                f'./models/{display_name.lower().replace(\"-\", \"_\")}_subset',\n",
    "                epochs=1  # Further reduced epochs for initial comparison\n",
    "            )\n",
    "            \n",
    "            if result is None:\n",
    "                print(f\"Skipping {display_name} due to training failure\")\n",
    "                continue\n",
    "            \n",
    "            results[display_name] = {\n",
    "                'model_name': model_name,\n",
    "                'f1_score': result['eval_results']['eval_f1'],\n",
    "                'accuracy': result['eval_results']['eval_accuracy'],\n",
    "                'eval_loss': result['eval_results']['eval_loss'],\n",
    "                'model': result['model'],\n",
    "                'tokenizer': result['tokenizer']\n",
    "            }\n",
    "            \n",
    "            print(f\"{display_name} Results:\")\n",
    "            print(f\"F1 Score: {result['eval_results']['eval_f1']:.4f}\")\n",
    "            print(f\"Accuracy: {result['eval_results']['eval_accuracy']:.4f}\")\n",
    "            print(f\"Eval Loss: {result['eval_results']['eval_loss']:.4f}\")\n",
    "            \n",
    "        except Exception as e:\n",
    "            print(f\"Error training {display_name}: {str(e)}\")\n",
    "            continue\n",
    "    \n",
    "    return results\n",
    "\n",
    "def plot_model_comparison(results):\n",
    "    \"\"\"Plot comparison of model performances\"\"\"\n",
    "    if not results:\n",
    "        print(\"No results to plot\")\n",
    "        return\n",
    "    \n",
    "    models = list(results.keys())\n",
    "    f1_scores = [results[model]['f1_score'] for model in models]\n",
    "    accuracies = [results[model]['accuracy'] for model in models]\n",
    "    \n",
    "    fig, (ax1, ax2) = plt.subplots(1, 2, figsize=(15, 6))\n",
    "    \n",
    "    # F1 Score comparison\n",
    "    bars1 = ax1.bar(models, f1_scores, color='skyblue', alpha=0.7)\n",
    "    ax1.set_title('Model Comparison - F1 Score', fontsize=14, fontweight='bold')\n",
    "    ax1.set_ylabel('F1 Score')\n",
    "    ax1.set_ylim(0, 1)\n",
    "    plt.setp(ax1.get_xticklabels(), rotation=45, ha='right')\n",
    "    \n",
    "    # Add value labels on bars\n",
    "    for bar, score in zip(bars1, f1_scores):\n",
    "        ax1.text(bar.get_x() + bar.get_width()/2, bar.get_height() + 0.01,\n",
    "                f'{score:.3f}', ha='center', va='bottom')\n",
    "    \n",
    "    # Accuracy comparison\n",
    "    bars2 = ax2.bar(models, accuracies, color='lightcoral', alpha=0.7)\n",
    "    ax2.set_title('Model Comparison - Accuracy', fontsize=14, fontweight='bold')\n",
    "    ax2.set_ylabel('Accuracy')\n",
    "    ax2.set_ylim(0, 1)\n",
    "    plt.setp(ax2.get_xticklabels(), rotation=45, ha='right')\n",
    "    \n",
    "    # Add value labels on bars\n",
    "    for bar, acc in zip(bars2, accuracies):\n",
    "        ax2.text(bar.get_x() + bar.get_width()/2, bar.get_height() + 0.01,\n",
    "                f'{acc:.3f}', ha='center', va='bottom')\n",
    "    \n",
    "    plt.tight_layout()\n",
    "    plt.show()\n",
    "\n",
    "def find_best_model(results):\n",
    "    \"\"\"Find the best performing model based on F1 score\"\"\"\n",
    "    if not results:\n",
    "        print(\"No results to evaluate\")\n",
    "        return None\n",
    "    \n",
    "    best_model_name = max(results.keys(), key=lambda k: results[k]['f1_score'])\n",
    "    best_result = results[best_model_name]\n",
    "    \n",
    "    print(f\"\\n{'='*60}\")\n",
    "    print(f\"BEST MODEL: {best_model_name}\")\n",
    "    print(f\"{'='*60}\")\n",
    "    print(f\"Model Name: {best_result['model_name']}\")\n",
    "    print(f\"F1 Score: {best_result['f1_score']:.4f}\")\n",
    "    print(f\"Accuracy: {best_result['accuracy']:.4f}\")\n",
    "    print(f\"Eval Loss: {best_result['eval_loss']:.4f}\")\n",
    "    \n",
    "    return best_model_name, best_result\n",
    "\n",
    "def fine_tune_on_full_dataset(best_model_info, full_df):\n",
    "    \"\"\"Fine-tune the best model on the full dataset\"\"\"\n",
    "    print(f\"\\n{'='*60}\")\n",
    "    print(\"FINE-TUNING BEST MODEL ON FULL DATASET\")\n",
    "    print(f\"{'='*60}\")\n",
    "    \n",
    "    # Prepare full dataset\n",
    "    train_texts, test_texts, train_labels, test_labels = train_test_split(\n",
    "        full_df['review'].tolist(),\n",
    "        full_df['label'].tolist(),\n",
    "        test_size=0.1,  # Smaller test set for full dataset\n",
    "        random_state=42,\n",
    "        stratify=full_df['label']\n",
    "    )\n",
    "    \n",
    "    # Load tokenizer\n",
    "    tokenizer = AutoTokenizer.from_pretrained(best_model_info['model_name'])\n",
    "    if tokenizer.pad_token is None:\n",
    "        tokenizer.pad_token = tokenizer.eos_token\n",
    "    \n",
    "    # Create datasets\n",
    "    train_dataset = create_hf_dataset(train_texts, train_labels, tokenizer)\n",
    "    eval_dataset = create_hf_dataset(test_texts, test_labels, tokenizer)\n",
    "    \n",
    "    # Fine-tune on full dataset\n",
    "    final_result = fine_tune_model(\n",
    "        best_model_info['model_name'],\n",
    "        train_dataset,\n",
    "        eval_dataset,\n",
    "        './models/best_model_full_dataset',\n",
    "        epochs=3\n",
    "    )\n",
    "    \n",
    "    print(f\"\\nFinal Model Results on Full Dataset:\")\n",
    "    print(f\"F1 Score: {final_result['eval_results']['eval_f1']:.4f}\")\n",
    "    print(f\"Accuracy: {final_result['eval_results']['eval_accuracy']:.4f}\")\n",
    "    print(f\"Eval Loss: {final_result['eval_results']['eval_loss']:.4f}\")\n",
    "    \n",
    "    return final_result, test_texts, test_labels\n",
    "\n",
    "def run_inference_on_samples(model, tokenizer, test_texts, test_labels, num_samples=10):\n",
    "    \"\"\"Run inference on randomly sampled reviews\"\"\"\n",
    "    print(f\"\\n{'='*60}\")\n",
    "    print(\"INFERENCE ON RANDOM SAMPLES\")\n",
    "    print(f\"{'='*60}\")\n",
    "    \n",
    "    # Randomly sample reviews\n",
    "    indices = np.random.choice(len(test_texts), num_samples, replace=False)\n",
    "    \n",
    "    device = torch.device('cuda' if torch.cuda.is_available() else 'cpu')\n",
    "    model.to(device)\n",
    "    model.eval()\n",
    "    \n",
    "    sentiment_map = {0: 'Negative', 1: 'Positive'}\n",
    "    \n",
    "    with torch.no_grad():\n",
    "        for i, idx in enumerate(indices):\n",
    "            text = test_texts[idx]\n",
    "            true_label = test_labels[idx]\n",
    "            \n",
    "            # Tokenize\n",
    "            inputs = tokenizer(\n",
    "                text,\n",
    "                return_tensors='pt',\n",
    "                truncation=True,\n",
    "                padding=True,\n",
    "                max_length=512\n",
    "            )\n",
    "            \n",
    "            # Move to device\n",
    "            inputs = {k: v.to(device) for k, v in inputs.items()}\n",
    "            \n",
    "            # Predict\n",
    "            outputs = model(**inputs)\n",
    "            logits = outputs.logits\n",
    "            predicted_label = torch.argmax(logits, dim=-1).cpu().numpy()[0]\n",
    "            confidence = torch.softmax(logits, dim=-1).max().cpu().numpy()\n",
    "            \n",
    "            # Display results\n",
    "            print(f\"\\n--- Sample {i+1} ---\")\n",
    "            print(f\"Review: {text[:200]}{'...' if len(text) > 200 else ''}\")\n",
    "            print(f\"True Sentiment: {sentiment_map[true_label]}\")\n",
    "            print(f\"Predicted Sentiment: {sentiment_map[predicted_label]}\")\n",
    "            print(f\"Confidence: {confidence:.4f}\")\n",
    "            print(f\"Correct: {'✓' if predicted_label == true_label else '✗'}\")\n",
    "\n",
    "def main():\n",
    "    \"\"\"Main execution function\"\"\"\n",
    "    print(\"IMDB Sentiment Analysis Fine-tuning Pipeline\")\n",
    "    print(\"=\" * 60)\n",
    "    \n",
    "    # Check dependencies first\n",
    "    if not check_dependencies():\n",
    "        print(\"Please fix dependency issues before proceeding.\")\n",
    "        return\n",
    "    \n",
    "    # Load and prepare data\n",
    "    data_dict = load_and_prepare_data('IMDB Dataset.csv', subset_size=2000)  # Reduced subset for faster testing\n",
    "    print(f\"Full dataset size: {len(data_dict['full_df'])}\")\n",
    "    print(f\"Subset size for model comparison: {len(data_dict['subset']['train_texts']) + len(data_dict['subset']['test_texts'])}\")\n",
    "    \n",
    "    # Step 1: Compare 5 models on subset\n",
    "    print(f\"\\n{'='*60}\")\n",
    "    print(\"STEP 1: COMPARING 5 MODELS ON SUBSET\")\n",
    "    print(f\"{'='*60}\")\n",
    "    \n",
    "    results = compare_models_on_subset(data_dict)\n",
    "    \n",
    "    # Plot comparison\n",
    "    if results:\n",
    "        plot_model_comparison(results)\n",
    "        \n",
    "        # Find best model\n",
    "        best_model_name, best_model_info = find_best_model(results)\n",
    "        \n",
    "        if best_model_name:\n",
    "            # Step 2: Fine-tune best model on full dataset\n",
    "            print(f\"\\n{'='*60}\")\n",
    "            print(\"STEP 2: FINE-TUNING BEST MODEL ON FULL DATASET\")\n",
    "            print(f\"{'='*60}\")\n",
    "            \n",
    "            final_result, test_texts, test_labels = fine_tune_on_full_dataset(\n",
    "                best_model_info, data_dict['full_df']\n",
    "            )\n",
    "            \n",
    "            # Step 3: Run inference on samples\n",
    "            run_inference_on_samples(\n",
    "                final_result['model'],\n",
    "                final_result['tokenizer'],\n",
    "                test_texts,\n",
    "                test_labels,\n",
    "                num_samples=10\n",
    "            )\n",
    "            \n",
    "            print(f\"\\n{'='*60}\")\n",
    "            print(\"PIPELINE COMPLETED SUCCESSFULLY!\")\n",
    "            print(f\"{'='*60}\")\n",
    "            print(f\"Best Model: {best_model_name}\")\n",
    "            print(f\"Final F1 Score: {final_result['eval_results']['eval_f1']:.4f}\")\n",
    "            print(f\"Final Accuracy: {final_result['eval_results']['eval_accuracy']:.4f}\")\n",
    "    \n",
    "    else:\n",
    "        print(\"No models were successfully trained. Please check your setup and data.\")\n",
    "\n",
    "\n",
    "if __name__ == \"__main__\":\n",
    "    main()"
   ]
  },
  {
   "cell_type": "code",
   "execution_count": null,
   "metadata": {
    "trusted": true
   },
   "outputs": [],
   "source": []
  }
 ],
 "metadata": {
  "kaggle": {
   "accelerator": "nvidiaTeslaT4",
   "dataSources": [
    {
     "datasetId": 134715,
     "sourceId": 320111,
     "sourceType": "datasetVersion"
    }
   ],
   "isGpuEnabled": true,
   "isInternetEnabled": true,
   "language": "python",
   "sourceType": "notebook"
  },
  "kernelspec": {
   "display_name": "Python 3",
   "language": "python",
   "name": "python3"
  },
  "language_info": {
   "codemirror_mode": {
    "name": "ipython",
    "version": 3
   },
   "file_extension": ".py",
   "mimetype": "text/x-python",
   "name": "python",
   "nbconvert_exporter": "python",
   "pygments_lexer": "ipython3",
   "version": "3.11.13"
  }
 },
 "nbformat": 4,
 "nbformat_minor": 4
}
